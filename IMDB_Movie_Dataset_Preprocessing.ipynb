{
  "nbformat": 4,
  "nbformat_minor": 0,
  "metadata": {
    "colab": {
      "name": "IMDB Movie Dataset Preprocessing",
      "provenance": [],
      "include_colab_link": true
    },
    "kernelspec": {
      "name": "python3",
      "display_name": "Python 3"
    },
    "language_info": {
      "name": "python"
    }
  },
  "cells": [
    {
      "cell_type": "markdown",
      "metadata": {
        "id": "view-in-github",
        "colab_type": "text"
      },
      "source": [
        "<a href=\"https://colab.research.google.com/github/sarindesai/notebooks/blob/main/IMDB_Movie_Dataset_Preprocessing.ipynb\" target=\"_parent\"><img src=\"https://colab.research.google.com/assets/colab-badge.svg\" alt=\"Open In Colab\"/></a>"
      ]
    },
    {
      "cell_type": "markdown",
      "source": [
        "### Importing library"
      ],
      "metadata": {
        "id": "KAJ8YgU8YwPh"
      }
    },
    {
      "cell_type": "code",
      "execution_count": null,
      "metadata": {
        "id": "sRdHUcWtPRml"
      },
      "outputs": [],
      "source": [
        "import numpy as np # linear algebra\n",
        "import pandas as pd # data processing, CSV file I/O (e.g. pd.read_csv)\n",
        "import warnings # Ignore Warnings\n",
        "\n",
        "from sklearn.decomposition import PCA # Principal Component Analysis\n",
        "\n",
        "warnings.filterwarnings('ignore')"
      ]
    },
    {
      "cell_type": "markdown",
      "source": [
        "### Reading Data"
      ],
      "metadata": {
        "id": "hwhnZbRFfl5W"
      }
    },
    {
      "cell_type": "code",
      "source": [
        "df = pd.read_csv('https://raw.githubusercontent.com/slmsshk/DataSet/main/movie_metadata.csv') #Read CSV"
      ],
      "metadata": {
        "id": "z6SRuKWGPcxb"
      },
      "execution_count": null,
      "outputs": []
    },
    {
      "cell_type": "markdown",
      "source": [
        "### Summary of the Dataframe.\n"
      ],
      "metadata": {
        "id": "ev9jvKvpnZWq"
      }
    },
    {
      "cell_type": "code",
      "source": [
        "df.head() #print first 5 row\n"
      ],
      "metadata": {
        "id": "riCkybTWPzeM"
      },
      "execution_count": null,
      "outputs": []
    },
    {
      "cell_type": "code",
      "source": [
        "df.info()"
      ],
      "metadata": {
        "id": "vzATVCmbc8U8"
      },
      "execution_count": null,
      "outputs": []
    },
    {
      "cell_type": "code",
      "source": [
        "print(df.size) # total numnber of elements present in the data set\n",
        "print(df.shape) # no.rows x no. columns\n",
        "print(df.ndim)  # data frame has 2 dimensions\n",
        "print(df.dtypes) # To know data type of each feature"
      ],
      "metadata": {
        "id": "sx5aDBbiaIgT"
      },
      "execution_count": null,
      "outputs": []
    },
    {
      "cell_type": "code",
      "source": [
        "# Generate descriptive statistics that summarize the central tendency, dispersion and shape of a dataset’s distribution,\n",
        "# excluding NaN values\n",
        "df.describe()"
      ],
      "metadata": {
        "id": "6yP6DfsSfDy-"
      },
      "execution_count": null,
      "outputs": []
    },
    {
      "cell_type": "code",
      "source": [
        "print(df.isnull().sum()) # total number of missing values feature wise"
      ],
      "metadata": {
        "id": "R4y6AC73fc8x"
      },
      "execution_count": null,
      "outputs": []
    },
    {
      "cell_type": "code",
      "source": [
        "# Summary of the columns.\n",
        "def columns_summary(df):\n",
        "  for i in df.columns:\n",
        "    print(\"Column: \",i)\n",
        "    print(df[i].describe())\n",
        "    print(f\"Null count: {df[i].isnull().sum()}\\nNull percentage: {round((df[i].isnull().sum()/len(df[i].index))*100,2)}\")\n",
        "    for i in range(0,2):\n",
        "      print(\"------------\")"
      ],
      "metadata": {
        "id": "8_84pdl1fjPP"
      },
      "execution_count": null,
      "outputs": []
    },
    {
      "cell_type": "code",
      "source": [
        "columns_summary(df)"
      ],
      "metadata": {
        "id": "bsbNQx_ZmC-A"
      },
      "execution_count": null,
      "outputs": []
    },
    {
      "cell_type": "code",
      "source": [
        "# Drop unnecessary columns\n",
        "df = df.drop([\"color\",\"director_facebook_likes\",\"actor_1_facebook_likes\",\"actor_2_facebook_likes\",\"actor_3_facebook_likes\",\"actor_2_name\",\"cast_total_facebook_likes\",\"actor_3_name\",\"duration\",\"facenumber_in_poster\",\"content_rating\",\"country\",\"movie_imdb_link\",\"aspect_ratio\",\"plot_keywords\"],axis =1)\n",
        "df.head()"
      ],
      "metadata": {
        "id": "OUoNVn88izF0"
      },
      "execution_count": null,
      "outputs": []
    },
    {
      "cell_type": "code",
      "source": [
        "#Drop target variable\n",
        "target = (df['imdb_score'].values).reshape(1,-1)\n",
        "df = df.drop(['imdb_score'], axis = 1)\n",
        "target.shape"
      ],
      "metadata": {
        "id": "8G0xU0qqqLBU"
      },
      "execution_count": null,
      "outputs": []
    },
    {
      "cell_type": "markdown",
      "source": [
        "### Imputing missing values\n"
      ],
      "metadata": {
        "id": "ULRAS5pEotnB"
      }
    },
    {
      "cell_type": "code",
      "source": [
        "def Fill_Missing_Value(df):\n",
        "  ind=0\n",
        "  mean = 0\n",
        "  for i in df.dtypes:\n",
        "    if i == 'float64' or i == 'int64':\n",
        "      column_name=df.columns[ind]\n",
        "      print(f'index No: {ind} Column: {column_name} \\nType: {i}')\n",
        "      print(\"null\",(df[column_name].isnull().sum()/len(df[column_name].index))*100,'Null sum',df[column_name].isnull().sum())\n",
        "      column_value=df[column_name][0:]\n",
        "      mean= column_value.mean()\n",
        "      print(f\"mean of column {column_name}: {mean}\")\n",
        "      df[column_name] = df[column_name].fillna(mean)\n",
        "      print(df[column_name])\n",
        "      print(\"After processing \\nnull\",(df[column_name].isnull().sum()/len(df[column_name].index))*100,'Null sum',df[column_name].isnull().sum())\n",
        "      for i in range(0,2):\n",
        "        print(\"------------\")\n",
        "\n",
        "    if i == 'object':\n",
        "      column_name=df.columns[ind]\n",
        "      print(f'index No: {ind} Column: {column_name} \\nType: {i}')\n",
        "      print(\"null\",(df[column_name].isnull().sum()/len(df[column_name].index))*100,'Null sum',df[column_name].isnull().sum())\n",
        "      # df=df.dropna(subset=[column_name]) #Activate if you want to remove the values\n",
        "      x=df[column_name].mode()\n",
        "      # df=x.values[0] Update for mode pending\n",
        "      print(\"After processing \\nnull\",(df[column_name].isnull().sum()/len(df[column_name].index))*100,'Null sum',df[column_name].isnull().sum())\n",
        "      for i in range(0,2):\n",
        "        print(\"------------\")\n",
        "    ind+=1\n",
        "  return df\n",
        "  "
      ],
      "metadata": {
        "id": "JokTAq5YoeZH"
      },
      "execution_count": null,
      "outputs": []
    },
    {
      "cell_type": "code",
      "source": [
        "df=Fill_Missing_Value(df)"
      ],
      "metadata": {
        "id": "srlx8ZGmUBNb"
      },
      "execution_count": null,
      "outputs": []
    },
    {
      "cell_type": "code",
      "source": [
        "df.head()"
      ],
      "metadata": {
        "id": "UrfL0O7mUXL6"
      },
      "execution_count": null,
      "outputs": []
    },
    {
      "cell_type": "code",
      "source": [
        "# Column-wise null percentages \n",
        "print(round((df.isnull().sum()/len(df.index))*100,2))"
      ],
      "metadata": {
        "id": "jAlfBMl9gCX8"
      },
      "execution_count": null,
      "outputs": []
    },
    {
      "cell_type": "code",
      "source": [
        "import matplotlib.pyplot as plt "
      ],
      "metadata": {
        "id": "i8kgUCuzVMbO"
      },
      "execution_count": null,
      "outputs": []
    },
    {
      "cell_type": "markdown",
      "source": [
        "### Normalizing features using Min-Max in Scikit Learn"
      ],
      "metadata": {
        "id": "Wi6I50jWUlAH"
      }
    },
    {
      "cell_type": "code",
      "source": [
        "from sklearn.preprocessing import MinMaxScaler\n",
        "\n",
        "min_max=MinMaxScaler()\n",
        "\n",
        "# normalize all int features\n",
        "col=df.columns[df.dtypes =='int64']\n",
        "for i in col:\n",
        "    x = df[i]\n",
        "    y = np.array(x).reshape(-1,1)\n",
        "    df[i] = min_max.fit_transform(y)\n",
        "\n",
        "# normalize all float features    \n",
        "col=df.columns[df.dtypes =='float64']\n",
        "for i in col:\n",
        "    x = df[i]\n",
        "    y = np.array(x).reshape(-1,1)\n",
        "    df[i] = min_max.fit_transform(y)  \n",
        "\n",
        "df.head()  "
      ],
      "metadata": {
        "id": "hfitxJi_Vm3F"
      },
      "execution_count": null,
      "outputs": []
    },
    {
      "cell_type": "code",
      "source": [
        "df.head()"
      ],
      "metadata": {
        "id": "d2wCJLw-8e8-"
      },
      "execution_count": null,
      "outputs": []
    },
    {
      "cell_type": "code",
      "source": [
        "df['genres'].dtypes"
      ],
      "metadata": {
        "id": "rzDM0WzN8Jjm"
      },
      "execution_count": null,
      "outputs": []
    },
    {
      "cell_type": "code",
      "source": [
        "from sklearn.preprocessing import LabelEncoder\n",
        "labelencoder = LabelEncoder()\n",
        "for i in df.columns:\n",
        "  if df[i].dtype=='O':\n",
        "    df[i] = labelencoder.fit_transform(df[i])\n",
        "\n",
        "df.head()"
      ],
      "metadata": {
        "id": "124WtEtWWANh"
      },
      "execution_count": null,
      "outputs": []
    }
  ]
}