{
  "nbformat": 4,
  "nbformat_minor": 0,
  "metadata": {
    "colab": {
      "name": "linear regression1",
      "provenance": [],
      "authorship_tag": "ABX9TyO/RVCC0Q1UhhXZU6zYshTc",
      "include_colab_link": true
    },
    "kernelspec": {
      "name": "python3",
      "display_name": "Python 3"
    },
    "language_info": {
      "name": "python"
    }
  },
  "cells": [
    {
      "cell_type": "markdown",
      "metadata": {
        "id": "view-in-github",
        "colab_type": "text"
      },
      "source": [
        "<a href=\"https://colab.research.google.com/github/sarindesai/notebooks/blob/main/linear_regression1.ipynb\" target=\"_parent\"><img src=\"https://colab.research.google.com/assets/colab-badge.svg\" alt=\"Open In Colab\"/></a>"
      ]
    },
    {
      "cell_type": "code",
      "execution_count": null,
      "metadata": {
        "id": "oxPNYarm5XHv"
      },
      "outputs": [],
      "source": [
        "import pandas as pd\n",
        "import numpy as np"
      ]
    },
    {
      "cell_type": "code",
      "source": [
        "https://raw.githubusercontent.com/slmsshk/DataSet/main/Regression/NewspaperData.csv"
      ],
      "metadata": {
        "id": "LXh3c_h25mEZ"
      },
      "execution_count": null,
      "outputs": []
    }
  ]
}