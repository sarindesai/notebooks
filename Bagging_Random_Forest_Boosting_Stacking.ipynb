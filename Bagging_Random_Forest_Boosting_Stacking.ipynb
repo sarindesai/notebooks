{
  "nbformat": 4,
  "nbformat_minor": 0,
  "metadata": {
    "colab": {
      "name": "Bagging_Random Forest_Boosting_Stacking.ipynb",
      "provenance": [],
      "collapsed_sections": [],
      "authorship_tag": "ABX9TyOcSxRjpMLRwh1opFP20SoN",
      "include_colab_link": true
    },
    "kernelspec": {
      "name": "python3",
      "display_name": "Python 3"
    },
    "language_info": {
      "name": "python"
    }
  },
  "cells": [
    {
      "cell_type": "markdown",
      "metadata": {
        "id": "view-in-github",
        "colab_type": "text"
      },
      "source": [
        "<a href=\"https://colab.research.google.com/github/sarindesai/notebooks/blob/main/Bagging_Random_Forest_Boosting_Stacking.ipynb\" target=\"_parent\"><img src=\"https://colab.research.google.com/assets/colab-badge.svg\" alt=\"Open In Colab\"/></a>"
      ]
    },
    {
      "cell_type": "code",
      "execution_count": 3,
      "metadata": {
        "colab": {
          "base_uri": "https://localhost:8080/"
        },
        "id": "kCz_WSBNpd0d",
        "outputId": "14078e7f-ee39-4839-ede8-b1adc85140dd"
      },
      "outputs": [
        {
          "output_type": "stream",
          "name": "stdout",
          "text": [
            "0.7578263841421736\n"
          ]
        }
      ],
      "source": [
        "from pandas.core.groupby.generic import DataFrame\n",
        "# bagged decision tree for classification\n",
        "from pandas import read_csv\n",
        "from sklearn.model_selection import KFold\n",
        "from sklearn.model_selection import cross_val_score\n",
        "from sklearn.ensemble import BaggingClassifier\n",
        "from sklearn.tree import DecisionTreeClassifier\n",
        "filename='https://raw.githubusercontent.com/slmsshk/pima-indians-diabetes.data.csv/main/pima-indians-diabetes.csv'\n",
        "\n",
        "names=['preg', 'plas', 'pres', 'skin', 'test', 'mass', 'pedi', 'age', 'class']\n",
        "DataFrame=read_csv(filename,names=names)\n",
        "array=DataFrame.values\n",
        "X=array[:,0:8]\n",
        "Y=array[:,8]\n",
        "seed=7\n",
        "\n",
        "KFold=KFold(n_splits=10, random_state=seed, shuffle=True)#evaluation method\n",
        "cart=DecisionTreeClassifier()\n",
        "num_trees=100\n",
        "\n",
        "model=BaggingClassifier(base_estimator=cart, n_estimators=num_trees, random_state=seed)#classifier\n",
        "results=cross_val_score(model,X,Y,cv=KFold)\n",
        "print(results.mean())"
      ]
    },
    {
      "cell_type": "code",
      "source": [
        "results"
      ],
      "metadata": {
        "colab": {
          "base_uri": "https://localhost:8080/"
        },
        "id": "MknbX7Q7qvdV",
        "outputId": "fc357ac7-4658-4392-cd9b-adfd8c8f27fa"
      },
      "execution_count": 4,
      "outputs": [
        {
          "output_type": "execute_result",
          "data": {
            "text/plain": [
              "array([0.76623377, 0.75324675, 0.74025974, 0.77922078, 0.80519481,\n",
              "       0.79220779, 0.66233766, 0.75324675, 0.78947368, 0.73684211])"
            ]
          },
          "metadata": {},
          "execution_count": 4
        }
      ]
    },
    {
      "cell_type": "code",
      "source": [
        "#random forest classification\n",
        "from pandas import read_csv\n",
        "from sklearn.model_selection import KFold\n",
        "from sklearn.model_selection import cross_val_score\n",
        "from sklearn.ensemble import RandomForestClassifier\n",
        "\n",
        "X=array[:,0:8]\n",
        "Y=array[:,8]\n",
        "num_trees=100\n",
        "max_features=3\n",
        "kfold=KFold(n_splits=10,random_state=7,shuffle=True)\n",
        "model=RandomForestClassifier(n_estimators=num_trees,max_features=max_features)\n",
        "results=cross_val_score(model,X,Y,cv=kfold)\n",
        "print(results.mean())"
      ],
      "metadata": {
        "colab": {
          "base_uri": "https://localhost:8080/"
        },
        "id": "Y3JE5UvRvI0y",
        "outputId": "ab05b06a-88ca-4a48-91f8-3c9bd508434c"
      },
      "execution_count": 5,
      "outputs": [
        {
          "output_type": "stream",
          "name": "stdout",
          "text": [
            "0.7734449760765549\n"
          ]
        }
      ]
    },
    {
      "cell_type": "code",
      "source": [
        "#adaboost classification\n",
        "from pandas import read_csv\n",
        "from sklearn.model_selection import KFold\n",
        "from sklearn.model_selection import cross_val_score\n",
        "from sklearn.ensemble import AdaBoostClassifier\n",
        "filename='https://raw.githubusercontent.com/slmsshk/pima-indians-diabetes.data.csv/main/pima-indians-diabetes.csv'\n",
        "names=['preg', 'plas', 'pres', 'skin', 'test', 'mass', 'pedi', 'age', 'class']\n",
        "DataFrame=read_csv(filename,names=names)\n",
        "array=DataFrame.values\n",
        "X=array[:,0:8]\n",
        "Y=array[:,8]\n",
        "seed=7\n",
        "num_trees=10\n",
        "\n",
        "kfold=KFold(n_splits=10, random_state=seed, shuffle=True)#evaluation method\n",
        "model=AdaBoostClassifier(n_estimators=num_trees,random_state=seed)\n",
        "results=cross_val_score(model,X,Y,cv=kfold)\n",
        "print(results.mean())\n"
      ],
      "metadata": {
        "colab": {
          "base_uri": "https://localhost:8080/"
        },
        "id": "cAt7t_U10L1M",
        "outputId": "baad71b1-f370-417c-f691-7432c7bc0740"
      },
      "execution_count": 6,
      "outputs": [
        {
          "output_type": "stream",
          "name": "stdout",
          "text": [
            "0.7669685577580314\n"
          ]
        }
      ]
    },
    {
      "cell_type": "code",
      "source": [
        "#stacking ensemble for classification\n",
        "from pandas import read_csv\n",
        "from sklearn.model_selection import KFold\n",
        "from sklearn.model_selection import cross_val_score\n",
        "from sklearn.linear_model import LogisticRegression\n",
        "from sklearn.tree import DecisionTreeClassifier\n",
        "from sklearn.svm import SVC\n",
        "from sklearn.ensemble import VotingClassifier\n",
        "\n",
        "names=['preg', 'plas', 'pres', 'skin', 'test', 'mass', 'pedi', 'age', 'class']\n",
        "DataFrame=read_csv(filename,names=names)\n",
        "array=DataFrame.values\n",
        "X=array[:,0:8]\n",
        "Y=array[:,8]\n",
        "\n",
        "KFold=KFold(n_splits=10, random_state=7, shuffle=True)\n",
        "\n",
        "#create the sub models\n",
        "estimators=[]\n",
        "model1=LogisticRegression(max_iter=500)\n",
        "estimators.append(('logistic',model1))\n",
        "model2=DecisionTreeClassifier()\n",
        "estimators.append(('cart',model2))\n",
        "model3=SVC()\n",
        "estimators.append(('svm',model3))\n",
        "\n",
        "#create the ensemble model\n",
        "ensemble=VotingClassifier(estimators)\n",
        "results=cross_val_score(ensemble,X,Y,cv=kfold)\n",
        "print(results.mean())"
      ],
      "metadata": {
        "id": "gVt2iHge2Uhd",
        "colab": {
          "base_uri": "https://localhost:8080/"
        },
        "outputId": "ba57a6a9-98a7-4c8d-b577-fe1f69c62ea5"
      },
      "execution_count": 11,
      "outputs": [
        {
          "output_type": "stream",
          "name": "stdout",
          "text": [
            "0.7721633629528366\n"
          ]
        }
      ]
    },
    {
      "cell_type": "code",
      "source": [],
      "metadata": {
        "id": "QIGDgsZLjo2Y"
      },
      "execution_count": null,
      "outputs": []
    }
  ]
}