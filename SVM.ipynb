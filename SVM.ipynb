{
  "nbformat": 4,
  "nbformat_minor": 0,
  "metadata": {
    "colab": {
      "name": "SVM.ipynb",
      "provenance": [],
      "collapsed_sections": [],
      "authorship_tag": "ABX9TyMStMxK0EhZYtAEfwfqL66N",
      "include_colab_link": true
    },
    "kernelspec": {
      "name": "python3",
      "display_name": "Python 3"
    },
    "language_info": {
      "name": "python"
    }
  },
  "cells": [
    {
      "cell_type": "markdown",
      "metadata": {
        "id": "view-in-github",
        "colab_type": "text"
      },
      "source": [
        "<a href=\"https://colab.research.google.com/github/sarindesai/notebooks/blob/main/SVM.ipynb\" target=\"_parent\"><img src=\"https://colab.research.google.com/assets/colab-badge.svg\" alt=\"Open In Colab\"/></a>"
      ]
    },
    {
      "cell_type": "code",
      "execution_count": null,
      "metadata": {
        "id": "X-liqAE5Kg_P"
      },
      "outputs": [],
      "source": [
        "import pandas as pd\n",
        "import numpy as np\n",
        "from sklearn.feature_extraction.text import CountVectorizer,TfidfVectorizer\n",
        "from sklearn.preprocessing import StandardScaler\n",
        "from sklearn import svm\n",
        "from sklearn.svm import SVC\n",
        "from sklearn.model_selection import GridSearchCV,RandomizedSearchCV\n",
        "from sklearn.metrics import classification_report\n",
        "from sklearn.metrics import accuracy_score,confusion_matrix\n",
        "from sklearn.model_selection import train_test_split,cross_val_score"
      ]
    },
    {
      "cell_type": "code",
      "source": [
        "filename='https://raw.githubusercontent.com/slmsshk/pima-indians-diabetes.data.csv/main/pima-indians-diabetes.csv'\n",
        "names=['preg','pres','plas','skin','test','mass','pedi','age','class']\n",
        "dataframe=pd.read_csv(filename,names=names)\n",
        "array=dataframe.values\n",
        "X=array[:,0:8]\n",
        "Y=array[:,8]"
      ],
      "metadata": {
        "id": "PJze5qFiLyMN"
      },
      "execution_count": null,
      "outputs": []
    },
    {
      "cell_type": "code",
      "source": [
        "X_train,X_test,Y_train,Y_test=train_test_split(X,Y,test_size=0.3)"
      ],
      "metadata": {
        "id": "ayitNRdvL3xI"
      },
      "execution_count": null,
      "outputs": []
    },
    {
      "cell_type": "code",
      "source": [
        "X_train.shape, Y_train.shape, X_test.shape, Y_test.shape"
      ],
      "metadata": {
        "colab": {
          "base_uri": "https://localhost:8080/"
        },
        "id": "0SW5QbTlMFTJ",
        "outputId": "d30d9003-4af1-4b96-89a5-d5487ae9147d"
      },
      "execution_count": null,
      "outputs": [
        {
          "output_type": "execute_result",
          "data": {
            "text/plain": [
              "((537, 8), (537,), (231, 8), (231,))"
            ]
          },
          "metadata": {},
          "execution_count": 29
        }
      ]
    },
    {
      "cell_type": "markdown",
      "source": [
        "Grid Search CV"
      ],
      "metadata": {
        "id": "eC7Gd1tZMwMk"
      }
    },
    {
      "cell_type": "code",
      "source": [
        "clf = SVC()\n",
        "param_grid=[{'kernel':['linear','rbf'],'gamma':[0.5,0.1,0.01],'C':[10,0.1,0.001,0.0001]}]\n",
        "gsv=RandomizedSearchCV(clf,param_grid,cv=10,verbose=3000)\n",
        "gsv.fit(X_train,Y_train)"
      ],
      "metadata": {
        "colab": {
          "base_uri": "https://localhost:8080/"
        },
        "id": "oeCBlE7YMyjk",
        "outputId": "8602f9dd-640c-4509-9eb7-71b9688a6d48"
      },
      "execution_count": null,
      "outputs": [
        {
          "output_type": "stream",
          "name": "stdout",
          "text": [
            "Fitting 10 folds for each of 10 candidates, totalling 100 fits\n",
            "[CV 1/10; 1/10] START C=0.001, gamma=0.01, kernel=rbf...........................\n",
            "[CV 1/10; 1/10] END C=0.001, gamma=0.01, kernel=rbf;, score=0.648 total time=   0.0s\n",
            "[CV 2/10; 1/10] START C=0.001, gamma=0.01, kernel=rbf...........................\n",
            "[CV 2/10; 1/10] END C=0.001, gamma=0.01, kernel=rbf;, score=0.648 total time=   0.0s\n",
            "[CV 3/10; 1/10] START C=0.001, gamma=0.01, kernel=rbf...........................\n",
            "[CV 3/10; 1/10] END C=0.001, gamma=0.01, kernel=rbf;, score=0.648 total time=   0.0s\n",
            "[CV 4/10; 1/10] START C=0.001, gamma=0.01, kernel=rbf...........................\n",
            "[CV 4/10; 1/10] END C=0.001, gamma=0.01, kernel=rbf;, score=0.648 total time=   0.0s\n",
            "[CV 5/10; 1/10] START C=0.001, gamma=0.01, kernel=rbf...........................\n",
            "[CV 5/10; 1/10] END C=0.001, gamma=0.01, kernel=rbf;, score=0.648 total time=   0.0s\n",
            "[CV 6/10; 1/10] START C=0.001, gamma=0.01, kernel=rbf...........................\n",
            "[CV 6/10; 1/10] END C=0.001, gamma=0.01, kernel=rbf;, score=0.630 total time=   0.0s\n",
            "[CV 7/10; 1/10] START C=0.001, gamma=0.01, kernel=rbf...........................\n",
            "[CV 7/10; 1/10] END C=0.001, gamma=0.01, kernel=rbf;, score=0.630 total time=   0.0s\n",
            "[CV 8/10; 1/10] START C=0.001, gamma=0.01, kernel=rbf...........................\n",
            "[CV 8/10; 1/10] END C=0.001, gamma=0.01, kernel=rbf;, score=0.642 total time=   0.0s\n",
            "[CV 9/10; 1/10] START C=0.001, gamma=0.01, kernel=rbf...........................\n",
            "[CV 9/10; 1/10] END C=0.001, gamma=0.01, kernel=rbf;, score=0.642 total time=   0.0s\n",
            "[CV 10/10; 1/10] START C=0.001, gamma=0.01, kernel=rbf..........................\n",
            "[CV 10/10; 1/10] END C=0.001, gamma=0.01, kernel=rbf;, score=0.642 total time=   0.0s\n",
            "[CV 1/10; 2/10] START C=10, gamma=0.01, kernel=rbf..............................\n",
            "[CV 1/10; 2/10] END C=10, gamma=0.01, kernel=rbf;, score=0.667 total time=   0.0s\n",
            "[CV 2/10; 2/10] START C=10, gamma=0.01, kernel=rbf..............................\n",
            "[CV 2/10; 2/10] END C=10, gamma=0.01, kernel=rbf;, score=0.648 total time=   0.0s\n",
            "[CV 3/10; 2/10] START C=10, gamma=0.01, kernel=rbf..............................\n",
            "[CV 3/10; 2/10] END C=10, gamma=0.01, kernel=rbf;, score=0.611 total time=   0.0s\n",
            "[CV 4/10; 2/10] START C=10, gamma=0.01, kernel=rbf..............................\n",
            "[CV 4/10; 2/10] END C=10, gamma=0.01, kernel=rbf;, score=0.667 total time=   0.0s\n",
            "[CV 5/10; 2/10] START C=10, gamma=0.01, kernel=rbf..............................\n",
            "[CV 5/10; 2/10] END C=10, gamma=0.01, kernel=rbf;, score=0.667 total time=   0.0s\n",
            "[CV 6/10; 2/10] START C=10, gamma=0.01, kernel=rbf..............................\n",
            "[CV 6/10; 2/10] END C=10, gamma=0.01, kernel=rbf;, score=0.685 total time=   0.0s\n",
            "[CV 7/10; 2/10] START C=10, gamma=0.01, kernel=rbf..............................\n",
            "[CV 7/10; 2/10] END C=10, gamma=0.01, kernel=rbf;, score=0.722 total time=   0.0s\n",
            "[CV 8/10; 2/10] START C=10, gamma=0.01, kernel=rbf..............................\n",
            "[CV 8/10; 2/10] END C=10, gamma=0.01, kernel=rbf;, score=0.623 total time=   0.0s\n",
            "[CV 9/10; 2/10] START C=10, gamma=0.01, kernel=rbf..............................\n",
            "[CV 9/10; 2/10] END C=10, gamma=0.01, kernel=rbf;, score=0.585 total time=   0.0s\n",
            "[CV 10/10; 2/10] START C=10, gamma=0.01, kernel=rbf.............................\n",
            "[CV 10/10; 2/10] END C=10, gamma=0.01, kernel=rbf;, score=0.623 total time=   0.0s\n",
            "[CV 1/10; 3/10] START C=0.0001, gamma=0.01, kernel=rbf..........................\n",
            "[CV 1/10; 3/10] END C=0.0001, gamma=0.01, kernel=rbf;, score=0.648 total time=   0.0s\n",
            "[CV 2/10; 3/10] START C=0.0001, gamma=0.01, kernel=rbf..........................\n",
            "[CV 2/10; 3/10] END C=0.0001, gamma=0.01, kernel=rbf;, score=0.648 total time=   0.0s\n",
            "[CV 3/10; 3/10] START C=0.0001, gamma=0.01, kernel=rbf..........................\n",
            "[CV 3/10; 3/10] END C=0.0001, gamma=0.01, kernel=rbf;, score=0.648 total time=   0.0s\n",
            "[CV 4/10; 3/10] START C=0.0001, gamma=0.01, kernel=rbf..........................\n",
            "[CV 4/10; 3/10] END C=0.0001, gamma=0.01, kernel=rbf;, score=0.648 total time=   0.0s\n",
            "[CV 5/10; 3/10] START C=0.0001, gamma=0.01, kernel=rbf..........................\n",
            "[CV 5/10; 3/10] END C=0.0001, gamma=0.01, kernel=rbf;, score=0.648 total time=   0.0s\n",
            "[CV 6/10; 3/10] START C=0.0001, gamma=0.01, kernel=rbf..........................\n",
            "[CV 6/10; 3/10] END C=0.0001, gamma=0.01, kernel=rbf;, score=0.630 total time=   0.0s\n",
            "[CV 7/10; 3/10] START C=0.0001, gamma=0.01, kernel=rbf..........................\n",
            "[CV 7/10; 3/10] END C=0.0001, gamma=0.01, kernel=rbf;, score=0.630 total time=   0.0s\n",
            "[CV 8/10; 3/10] START C=0.0001, gamma=0.01, kernel=rbf..........................\n",
            "[CV 8/10; 3/10] END C=0.0001, gamma=0.01, kernel=rbf;, score=0.642 total time=   0.0s\n",
            "[CV 9/10; 3/10] START C=0.0001, gamma=0.01, kernel=rbf..........................\n",
            "[CV 9/10; 3/10] END C=0.0001, gamma=0.01, kernel=rbf;, score=0.642 total time=   0.0s\n",
            "[CV 10/10; 3/10] START C=0.0001, gamma=0.01, kernel=rbf.........................\n",
            "[CV 10/10; 3/10] END C=0.0001, gamma=0.01, kernel=rbf;, score=0.642 total time=   0.0s\n",
            "[CV 1/10; 4/10] START C=10, gamma=0.5, kernel=linear............................\n",
            "[CV 1/10; 4/10] END C=10, gamma=0.5, kernel=linear;, score=0.778 total time=  10.4s\n",
            "[CV 2/10; 4/10] START C=10, gamma=0.5, kernel=linear............................\n",
            "[CV 2/10; 4/10] END C=10, gamma=0.5, kernel=linear;, score=0.778 total time=  19.8s\n",
            "[CV 3/10; 4/10] START C=10, gamma=0.5, kernel=linear............................\n",
            "[CV 3/10; 4/10] END C=10, gamma=0.5, kernel=linear;, score=0.870 total time=  17.6s\n",
            "[CV 4/10; 4/10] START C=10, gamma=0.5, kernel=linear............................\n",
            "[CV 4/10; 4/10] END C=10, gamma=0.5, kernel=linear;, score=0.778 total time=  35.4s\n",
            "[CV 5/10; 4/10] START C=10, gamma=0.5, kernel=linear............................\n",
            "[CV 5/10; 4/10] END C=10, gamma=0.5, kernel=linear;, score=0.759 total time=  14.0s\n",
            "[CV 6/10; 4/10] START C=10, gamma=0.5, kernel=linear............................\n",
            "[CV 6/10; 4/10] END C=10, gamma=0.5, kernel=linear;, score=0.722 total time=  13.3s\n",
            "[CV 7/10; 4/10] START C=10, gamma=0.5, kernel=linear............................\n",
            "[CV 7/10; 4/10] END C=10, gamma=0.5, kernel=linear;, score=0.796 total time=  25.7s\n",
            "[CV 8/10; 4/10] START C=10, gamma=0.5, kernel=linear............................\n",
            "[CV 8/10; 4/10] END C=10, gamma=0.5, kernel=linear;, score=0.792 total time=  27.4s\n",
            "[CV 9/10; 4/10] START C=10, gamma=0.5, kernel=linear............................\n",
            "[CV 9/10; 4/10] END C=10, gamma=0.5, kernel=linear;, score=0.660 total time=  20.6s\n",
            "[CV 10/10; 4/10] START C=10, gamma=0.5, kernel=linear...........................\n",
            "[CV 10/10; 4/10] END C=10, gamma=0.5, kernel=linear;, score=0.830 total time=  13.7s\n",
            "[CV 1/10; 5/10] START C=0.1, gamma=0.01, kernel=rbf.............................\n",
            "[CV 1/10; 5/10] END C=0.1, gamma=0.01, kernel=rbf;, score=0.648 total time=   0.0s\n",
            "[CV 2/10; 5/10] START C=0.1, gamma=0.01, kernel=rbf.............................\n",
            "[CV 2/10; 5/10] END C=0.1, gamma=0.01, kernel=rbf;, score=0.648 total time=   0.0s\n",
            "[CV 3/10; 5/10] START C=0.1, gamma=0.01, kernel=rbf.............................\n",
            "[CV 3/10; 5/10] END C=0.1, gamma=0.01, kernel=rbf;, score=0.648 total time=   0.0s\n",
            "[CV 4/10; 5/10] START C=0.1, gamma=0.01, kernel=rbf.............................\n",
            "[CV 4/10; 5/10] END C=0.1, gamma=0.01, kernel=rbf;, score=0.648 total time=   0.0s\n",
            "[CV 5/10; 5/10] START C=0.1, gamma=0.01, kernel=rbf.............................\n",
            "[CV 5/10; 5/10] END C=0.1, gamma=0.01, kernel=rbf;, score=0.648 total time=   0.0s\n",
            "[CV 6/10; 5/10] START C=0.1, gamma=0.01, kernel=rbf.............................\n",
            "[CV 6/10; 5/10] END C=0.1, gamma=0.01, kernel=rbf;, score=0.630 total time=   0.0s\n",
            "[CV 7/10; 5/10] START C=0.1, gamma=0.01, kernel=rbf.............................\n",
            "[CV 7/10; 5/10] END C=0.1, gamma=0.01, kernel=rbf;, score=0.630 total time=   0.0s\n",
            "[CV 8/10; 5/10] START C=0.1, gamma=0.01, kernel=rbf.............................\n",
            "[CV 8/10; 5/10] END C=0.1, gamma=0.01, kernel=rbf;, score=0.642 total time=   0.0s\n",
            "[CV 9/10; 5/10] START C=0.1, gamma=0.01, kernel=rbf.............................\n",
            "[CV 9/10; 5/10] END C=0.1, gamma=0.01, kernel=rbf;, score=0.642 total time=   0.0s\n",
            "[CV 10/10; 5/10] START C=0.1, gamma=0.01, kernel=rbf............................\n",
            "[CV 10/10; 5/10] END C=0.1, gamma=0.01, kernel=rbf;, score=0.642 total time=   0.0s\n",
            "[CV 1/10; 6/10] START C=0.001, gamma=0.1, kernel=rbf............................\n",
            "[CV 1/10; 6/10] END C=0.001, gamma=0.1, kernel=rbf;, score=0.648 total time=   0.0s\n",
            "[CV 2/10; 6/10] START C=0.001, gamma=0.1, kernel=rbf............................\n",
            "[CV 2/10; 6/10] END C=0.001, gamma=0.1, kernel=rbf;, score=0.648 total time=   0.0s\n",
            "[CV 3/10; 6/10] START C=0.001, gamma=0.1, kernel=rbf............................\n",
            "[CV 3/10; 6/10] END C=0.001, gamma=0.1, kernel=rbf;, score=0.648 total time=   0.0s\n",
            "[CV 4/10; 6/10] START C=0.001, gamma=0.1, kernel=rbf............................\n",
            "[CV 4/10; 6/10] END C=0.001, gamma=0.1, kernel=rbf;, score=0.648 total time=   0.0s\n",
            "[CV 5/10; 6/10] START C=0.001, gamma=0.1, kernel=rbf............................\n",
            "[CV 5/10; 6/10] END C=0.001, gamma=0.1, kernel=rbf;, score=0.648 total time=   0.0s\n",
            "[CV 6/10; 6/10] START C=0.001, gamma=0.1, kernel=rbf............................\n",
            "[CV 6/10; 6/10] END C=0.001, gamma=0.1, kernel=rbf;, score=0.630 total time=   0.0s\n",
            "[CV 7/10; 6/10] START C=0.001, gamma=0.1, kernel=rbf............................\n",
            "[CV 7/10; 6/10] END C=0.001, gamma=0.1, kernel=rbf;, score=0.630 total time=   0.0s\n",
            "[CV 8/10; 6/10] START C=0.001, gamma=0.1, kernel=rbf............................\n",
            "[CV 8/10; 6/10] END C=0.001, gamma=0.1, kernel=rbf;, score=0.642 total time=   0.0s\n",
            "[CV 9/10; 6/10] START C=0.001, gamma=0.1, kernel=rbf............................\n",
            "[CV 9/10; 6/10] END C=0.001, gamma=0.1, kernel=rbf;, score=0.642 total time=   0.0s\n",
            "[CV 10/10; 6/10] START C=0.001, gamma=0.1, kernel=rbf...........................\n",
            "[CV 10/10; 6/10] END C=0.001, gamma=0.1, kernel=rbf;, score=0.642 total time=   0.0s\n",
            "[CV 1/10; 7/10] START C=0.1, gamma=0.1, kernel=linear...........................\n",
            "[CV 1/10; 7/10] END C=0.1, gamma=0.1, kernel=linear;, score=0.796 total time=   0.2s\n",
            "[CV 2/10; 7/10] START C=0.1, gamma=0.1, kernel=linear...........................\n",
            "[CV 2/10; 7/10] END C=0.1, gamma=0.1, kernel=linear;, score=0.759 total time=   0.7s\n",
            "[CV 3/10; 7/10] START C=0.1, gamma=0.1, kernel=linear...........................\n",
            "[CV 3/10; 7/10] END C=0.1, gamma=0.1, kernel=linear;, score=0.889 total time=   0.3s\n",
            "[CV 4/10; 7/10] START C=0.1, gamma=0.1, kernel=linear...........................\n",
            "[CV 4/10; 7/10] END C=0.1, gamma=0.1, kernel=linear;, score=0.759 total time=   0.3s\n",
            "[CV 5/10; 7/10] START C=0.1, gamma=0.1, kernel=linear...........................\n",
            "[CV 5/10; 7/10] END C=0.1, gamma=0.1, kernel=linear;, score=0.778 total time=   0.2s\n",
            "[CV 6/10; 7/10] START C=0.1, gamma=0.1, kernel=linear...........................\n",
            "[CV 6/10; 7/10] END C=0.1, gamma=0.1, kernel=linear;, score=0.722 total time=   0.3s\n",
            "[CV 7/10; 7/10] START C=0.1, gamma=0.1, kernel=linear...........................\n",
            "[CV 7/10; 7/10] END C=0.1, gamma=0.1, kernel=linear;, score=0.796 total time=   0.3s\n",
            "[CV 8/10; 7/10] START C=0.1, gamma=0.1, kernel=linear...........................\n",
            "[CV 8/10; 7/10] END C=0.1, gamma=0.1, kernel=linear;, score=0.774 total time=   0.2s\n",
            "[CV 9/10; 7/10] START C=0.1, gamma=0.1, kernel=linear...........................\n",
            "[CV 9/10; 7/10] END C=0.1, gamma=0.1, kernel=linear;, score=0.660 total time=   0.3s\n",
            "[CV 10/10; 7/10] START C=0.1, gamma=0.1, kernel=linear..........................\n",
            "[CV 10/10; 7/10] END C=0.1, gamma=0.1, kernel=linear;, score=0.811 total time=   0.3s\n",
            "[CV 1/10; 8/10] START C=0.001, gamma=0.5, kernel=rbf............................\n",
            "[CV 1/10; 8/10] END C=0.001, gamma=0.5, kernel=rbf;, score=0.648 total time=   0.0s\n",
            "[CV 2/10; 8/10] START C=0.001, gamma=0.5, kernel=rbf............................\n",
            "[CV 2/10; 8/10] END C=0.001, gamma=0.5, kernel=rbf;, score=0.648 total time=   0.0s\n",
            "[CV 3/10; 8/10] START C=0.001, gamma=0.5, kernel=rbf............................\n",
            "[CV 3/10; 8/10] END C=0.001, gamma=0.5, kernel=rbf;, score=0.648 total time=   0.0s\n",
            "[CV 4/10; 8/10] START C=0.001, gamma=0.5, kernel=rbf............................\n",
            "[CV 4/10; 8/10] END C=0.001, gamma=0.5, kernel=rbf;, score=0.648 total time=   0.0s\n",
            "[CV 5/10; 8/10] START C=0.001, gamma=0.5, kernel=rbf............................\n",
            "[CV 5/10; 8/10] END C=0.001, gamma=0.5, kernel=rbf;, score=0.648 total time=   0.0s\n",
            "[CV 6/10; 8/10] START C=0.001, gamma=0.5, kernel=rbf............................\n",
            "[CV 6/10; 8/10] END C=0.001, gamma=0.5, kernel=rbf;, score=0.630 total time=   0.0s\n",
            "[CV 7/10; 8/10] START C=0.001, gamma=0.5, kernel=rbf............................\n",
            "[CV 7/10; 8/10] END C=0.001, gamma=0.5, kernel=rbf;, score=0.630 total time=   0.0s\n",
            "[CV 8/10; 8/10] START C=0.001, gamma=0.5, kernel=rbf............................\n",
            "[CV 8/10; 8/10] END C=0.001, gamma=0.5, kernel=rbf;, score=0.642 total time=   0.0s\n",
            "[CV 9/10; 8/10] START C=0.001, gamma=0.5, kernel=rbf............................\n",
            "[CV 9/10; 8/10] END C=0.001, gamma=0.5, kernel=rbf;, score=0.642 total time=   0.0s\n",
            "[CV 10/10; 8/10] START C=0.001, gamma=0.5, kernel=rbf...........................\n",
            "[CV 10/10; 8/10] END C=0.001, gamma=0.5, kernel=rbf;, score=0.642 total time=   0.0s\n",
            "[CV 1/10; 9/10] START C=10, gamma=0.01, kernel=linear...........................\n",
            "[CV 1/10; 9/10] END C=10, gamma=0.01, kernel=linear;, score=0.778 total time=  13.2s\n",
            "[CV 2/10; 9/10] START C=10, gamma=0.01, kernel=linear...........................\n",
            "[CV 2/10; 9/10] END C=10, gamma=0.01, kernel=linear;, score=0.778 total time=  26.4s\n",
            "[CV 3/10; 9/10] START C=10, gamma=0.01, kernel=linear...........................\n",
            "[CV 3/10; 9/10] END C=10, gamma=0.01, kernel=linear;, score=0.870 total time=  19.6s\n",
            "[CV 4/10; 9/10] START C=10, gamma=0.01, kernel=linear...........................\n",
            "[CV 4/10; 9/10] END C=10, gamma=0.01, kernel=linear;, score=0.778 total time=  34.6s\n",
            "[CV 5/10; 9/10] START C=10, gamma=0.01, kernel=linear...........................\n",
            "[CV 5/10; 9/10] END C=10, gamma=0.01, kernel=linear;, score=0.759 total time=  14.7s\n",
            "[CV 6/10; 9/10] START C=10, gamma=0.01, kernel=linear...........................\n",
            "[CV 6/10; 9/10] END C=10, gamma=0.01, kernel=linear;, score=0.722 total time=  12.9s\n",
            "[CV 7/10; 9/10] START C=10, gamma=0.01, kernel=linear...........................\n",
            "[CV 7/10; 9/10] END C=10, gamma=0.01, kernel=linear;, score=0.796 total time=  25.8s\n",
            "[CV 8/10; 9/10] START C=10, gamma=0.01, kernel=linear...........................\n",
            "[CV 8/10; 9/10] END C=10, gamma=0.01, kernel=linear;, score=0.792 total time=  23.3s\n",
            "[CV 9/10; 9/10] START C=10, gamma=0.01, kernel=linear...........................\n",
            "[CV 9/10; 9/10] END C=10, gamma=0.01, kernel=linear;, score=0.660 total time=  18.6s\n",
            "[CV 10/10; 9/10] START C=10, gamma=0.01, kernel=linear..........................\n",
            "[CV 10/10; 9/10] END C=10, gamma=0.01, kernel=linear;, score=0.830 total time=  10.9s\n",
            "[CV 1/10; 10/10] START C=0.001, gamma=0.5, kernel=linear........................\n",
            "[CV 1/10; 10/10] END C=0.001, gamma=0.5, kernel=linear;, score=0.778 total time=   0.0s\n",
            "[CV 2/10; 10/10] START C=0.001, gamma=0.5, kernel=linear........................\n",
            "[CV 2/10; 10/10] END C=0.001, gamma=0.5, kernel=linear;, score=0.759 total time=   0.0s\n",
            "[CV 3/10; 10/10] START C=0.001, gamma=0.5, kernel=linear........................\n",
            "[CV 3/10; 10/10] END C=0.001, gamma=0.5, kernel=linear;, score=0.889 total time=   0.0s\n",
            "[CV 4/10; 10/10] START C=0.001, gamma=0.5, kernel=linear........................\n",
            "[CV 4/10; 10/10] END C=0.001, gamma=0.5, kernel=linear;, score=0.741 total time=   0.0s\n",
            "[CV 5/10; 10/10] START C=0.001, gamma=0.5, kernel=linear........................\n",
            "[CV 5/10; 10/10] END C=0.001, gamma=0.5, kernel=linear;, score=0.778 total time=   0.0s\n",
            "[CV 6/10; 10/10] START C=0.001, gamma=0.5, kernel=linear........................\n",
            "[CV 6/10; 10/10] END C=0.001, gamma=0.5, kernel=linear;, score=0.722 total time=   0.0s\n",
            "[CV 7/10; 10/10] START C=0.001, gamma=0.5, kernel=linear........................\n",
            "[CV 7/10; 10/10] END C=0.001, gamma=0.5, kernel=linear;, score=0.759 total time=   0.0s\n",
            "[CV 8/10; 10/10] START C=0.001, gamma=0.5, kernel=linear........................\n",
            "[CV 8/10; 10/10] END C=0.001, gamma=0.5, kernel=linear;, score=0.792 total time=   0.0s\n",
            "[CV 9/10; 10/10] START C=0.001, gamma=0.5, kernel=linear........................\n",
            "[CV 9/10; 10/10] END C=0.001, gamma=0.5, kernel=linear;, score=0.660 total time=   0.0s\n",
            "[CV 10/10; 10/10] START C=0.001, gamma=0.5, kernel=linear.......................\n",
            "[CV 10/10; 10/10] END C=0.001, gamma=0.5, kernel=linear;, score=0.811 total time=   0.0s\n"
          ]
        },
        {
          "output_type": "execute_result",
          "data": {
            "text/plain": [
              "RandomizedSearchCV(cv=10, estimator=SVC(),\n",
              "                   param_distributions=[{'C': [10, 0.1, 0.001, 0.0001],\n",
              "                                         'gamma': [0.5, 0.1, 0.01],\n",
              "                                         'kernel': ['linear', 'rbf']}],\n",
              "                   verbose=3000)"
            ]
          },
          "metadata": {},
          "execution_count": 31
        }
      ]
    },
    {
      "cell_type": "code",
      "source": [
        "gsv.best_params_,gsv.best_score_"
      ],
      "metadata": {
        "colab": {
          "base_uri": "https://localhost:8080/"
        },
        "id": "b0A4itQeNgoN",
        "outputId": "480c58b7-af1f-4076-f133-3e2d987dfbcc"
      },
      "execution_count": null,
      "outputs": [
        {
          "output_type": "execute_result",
          "data": {
            "text/plain": [
              "({'kernel': 'linear', 'gamma': 0.5, 'C': 10}, 0.7764500349406009)"
            ]
          },
          "metadata": {},
          "execution_count": 32
        }
      ]
    },
    {
      "cell_type": "code",
      "source": [
        "clf=SVC(kernel='linear',C=10)\n",
        "clf.fit(X_train,Y_train)\n",
        "Y_pred=clf.predict(X_test)\n",
        "acc=accuracy_score(Y_test,Y_pred)*100\n",
        "print(\"Accuracy=\",acc)\n",
        "confusion_matrix(Y_test,Y_pred)"
      ],
      "metadata": {
        "colab": {
          "base_uri": "https://localhost:8080/"
        },
        "id": "-xVMyIQuRRGd",
        "outputId": "216723b2-e3e8-4827-e903-e2668837c14e"
      },
      "execution_count": null,
      "outputs": [
        {
          "output_type": "stream",
          "name": "stdout",
          "text": [
            "Accuracy= 77.48917748917748\n"
          ]
        },
        {
          "output_type": "execute_result",
          "data": {
            "text/plain": [
              "array([[141,  14],\n",
              "       [ 38,  38]])"
            ]
          },
          "metadata": {},
          "execution_count": 33
        }
      ]
    },
    {
      "cell_type": "code",
      "source": [
        "Y_pred"
      ],
      "metadata": {
        "colab": {
          "base_uri": "https://localhost:8080/"
        },
        "id": "3NY8JEcjSDu_",
        "outputId": "50791bb9-fa81-4d16-8db6-012371d58dba"
      },
      "execution_count": null,
      "outputs": [
        {
          "output_type": "execute_result",
          "data": {
            "text/plain": [
              "array([0., 1., 0., 0., 0., 1., 0., 0., 0., 0., 0., 0., 0., 0., 1., 0., 0.,\n",
              "       0., 1., 0., 0., 0., 1., 0., 0., 0., 0., 0., 0., 0., 1., 0., 1., 0.,\n",
              "       0., 0., 0., 0., 0., 1., 1., 1., 1., 0., 0., 0., 0., 0., 0., 0., 0.,\n",
              "       0., 0., 0., 0., 1., 0., 0., 0., 0., 0., 0., 1., 0., 1., 0., 0., 1.,\n",
              "       0., 0., 0., 1., 0., 0., 0., 0., 0., 0., 0., 1., 0., 0., 0., 1., 1.,\n",
              "       1., 0., 0., 0., 0., 0., 0., 0., 0., 0., 0., 0., 0., 1., 0., 0., 0.,\n",
              "       0., 0., 1., 0., 0., 0., 1., 0., 1., 0., 0., 0., 0., 0., 0., 1., 0.,\n",
              "       0., 1., 0., 0., 1., 0., 0., 0., 0., 1., 1., 0., 0., 0., 0., 0., 0.,\n",
              "       0., 0., 1., 1., 1., 0., 0., 0., 0., 0., 0., 0., 1., 0., 0., 0., 0.,\n",
              "       0., 0., 0., 0., 0., 0., 0., 0., 0., 0., 1., 0., 0., 1., 1., 0., 1.,\n",
              "       0., 1., 0., 1., 0., 0., 1., 0., 0., 0., 1., 0., 0., 0., 0., 1., 0.,\n",
              "       1., 0., 0., 0., 0., 0., 1., 0., 0., 0., 0., 0., 0., 0., 0., 1., 0.,\n",
              "       0., 0., 0., 1., 0., 0., 0., 0., 0., 0., 1., 1., 0., 0., 0., 1., 0.,\n",
              "       0., 0., 0., 1., 0., 0., 0., 1., 0., 1.])"
            ]
          },
          "metadata": {},
          "execution_count": 34
        }
      ]
    }
  ]
}