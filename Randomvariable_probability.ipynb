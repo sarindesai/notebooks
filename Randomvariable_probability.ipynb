{
  "nbformat": 4,
  "nbformat_minor": 0,
  "metadata": {
    "colab": {
      "name": "Randomvariable-probability.ipynb",
      "provenance": [],
      "include_colab_link": true
    },
    "kernelspec": {
      "name": "python3",
      "display_name": "Python 3"
    },
    "language_info": {
      "name": "python"
    }
  },
  "cells": [
    {
      "cell_type": "markdown",
      "metadata": {
        "id": "view-in-github",
        "colab_type": "text"
      },
      "source": [
        "<a href=\"https://colab.research.google.com/github/sarindesai/notebooks/blob/main/Randomvariable_probability.ipynb\" target=\"_parent\"><img src=\"https://colab.research.google.com/assets/colab-badge.svg\" alt=\"Open In Colab\"/></a>"
      ]
    },
    {
      "cell_type": "code",
      "execution_count": null,
      "metadata": {
        "id": "42BTa4MN8qAp"
      },
      "outputs": [],
      "source": [
        "from scipy import stats\n",
        "x=30\n",
        "mean=125\n",
        "std=7.8"
      ]
    },
    {
      "cell_type": "code",
      "source": [
        "stats.norm.cdf(x,loc=125, scale=7.8)\n"
      ],
      "metadata": {
        "id": "lgLQkX5X8_DZ",
        "colab": {
          "base_uri": "https://localhost:8080/"
        },
        "outputId": "70fcce8b-747d-401d-eed0-f26966ee8c88"
      },
      "execution_count": null,
      "outputs": [
        {
          "output_type": "execute_result",
          "data": {
            "text/plain": [
              "1.998938368842126e-34"
            ]
          },
          "metadata": {},
          "execution_count": 2
        }
      ]
    },
    {
      "cell_type": "code",
      "source": [
        "1-stats.norm.cdf(x,loc=mean,scale=std)"
      ],
      "metadata": {
        "id": "Y3lXY6O29sP6",
        "colab": {
          "base_uri": "https://localhost:8080/"
        },
        "outputId": "9fe783ab-c5c7-4a8c-9a5d-1c28c5dcf091"
      },
      "execution_count": null,
      "outputs": [
        {
          "output_type": "execute_result",
          "data": {
            "text/plain": [
              "1.0"
            ]
          },
          "metadata": {},
          "execution_count": 3
        }
      ]
    },
    {
      "cell_type": "code",
      "source": [
        "from scipy import stats\n",
        "x=69\n",
        "stats.norm.cdf(x,loc=60, scale=10)\n"
      ],
      "metadata": {
        "id": "7J3RVZ_7AHxa",
        "colab": {
          "base_uri": "https://localhost:8080/"
        },
        "outputId": "678cf5a9-9ff0-4820-e8aa-664340d835c9"
      },
      "execution_count": null,
      "outputs": [
        {
          "output_type": "execute_result",
          "data": {
            "text/plain": [
              "0.8159398746532405"
            ]
          },
          "metadata": {},
          "execution_count": 4
        }
      ]
    },
    {
      "cell_type": "code",
      "source": [
        "from scipy import stats\n",
        "x=680\n",
        "stats.norm.cdf(x,loc=711, scale=29)\n"
      ],
      "metadata": {
        "id": "KfxGWqDcCZVV",
        "colab": {
          "base_uri": "https://localhost:8080/"
        },
        "outputId": "f6b70dd2-b16a-4e69-bcc2-c316aae22705"
      },
      "execution_count": null,
      "outputs": [
        {
          "output_type": "execute_result",
          "data": {
            "text/plain": [
              "0.14254260383881612"
            ]
          },
          "metadata": {},
          "execution_count": 5
        }
      ]
    },
    {
      "cell_type": "code",
      "source": [
        "x=5\n",
        "y=5\n",
        "x/y"
      ],
      "metadata": {
        "colab": {
          "base_uri": "https://localhost:8080/"
        },
        "id": "UhXJaDrZN9kc",
        "outputId": "e44aa1c5-78c0-44aa-afef-b0311ced5a35"
      },
      "execution_count": null,
      "outputs": [
        {
          "output_type": "execute_result",
          "data": {
            "text/plain": [
              "1.0"
            ]
          },
          "metadata": {},
          "execution_count": 6
        }
      ]
    },
    {
      "cell_type": "code",
      "source": [
        "-10 + 5 * 2\n"
      ],
      "metadata": {
        "colab": {
          "base_uri": "https://localhost:8080/"
        },
        "id": "iD7-lkXwPLVK",
        "outputId": "17e6b461-969f-4b45-df42-fc75b4a3a9ce"
      },
      "execution_count": null,
      "outputs": [
        {
          "output_type": "execute_result",
          "data": {
            "text/plain": [
              "0"
            ]
          },
          "metadata": {},
          "execution_count": 7
        }
      ]
    }
  ]
}